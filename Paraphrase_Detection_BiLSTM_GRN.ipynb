{
 "cells": [
  {
   "cell_type": "markdown",
   "metadata": {
    "colab_type": "text",
    "id": "cENw5aD5sk_B"
   },
   "source": [
    "# Paraphrase-Detection using Bi-LSTM with Gated Relevance Network\n",
    "Paraphrase detection is the task of examining two text entities (ex. sentence) and determining whether they have the same meaning. In order to obtain high accuracy on this task, thorough syntactic and semantic analysis of the two text entities is required.\n",
    "\n",
    "## What is Paraphrase?\n",
    "In simple words, paraphrase is just an alternative representation of the same meaning."
   ]
  },
  {
   "cell_type": "markdown",
   "metadata": {},
   "source": [
    "![text_similarity.png](text_similarity.png)"
   ]
  },
  {
   "cell_type": "markdown",
   "metadata": {
    "colab_type": "text",
    "id": "-5E3mWg4tNjb"
   },
   "source": [
    "## Quora Question Pairs Dataset\n",
    "There are over 400,000 lines of potential question duplicate pairs. Each line contains IDs for each question in the pair, the full text for each question, and a binary value that indicates whether the line truly contains a duplicate pair.\n",
    "\n",
    "We can download dataset from [Quora Question Pairs Dataset](https://www.kaggle.com/quora/question-pairs-dataset)"
   ]
  },
  {
   "cell_type": "code",
   "execution_count": 0,
   "metadata": {
    "colab": {},
    "colab_type": "code",
    "id": "vWnY8YdR1YMb"
   },
   "outputs": [],
   "source": [
    "# Importing packages\n",
    "import json\n",
    "import pandas as pd\n",
    "import numpy as np\n",
    "import matplotlib.pyplot as plt\n",
    "% matplotlib inline\n",
    "\n",
    "import string\n",
    "import os\n",
    "from sklearn.model_selection import train_test_split\n",
    "from tensorflow.keras.models import Sequential, Model\n",
    "from tensorflow.keras.layers import Embedding\n",
    "from tensorflow.keras.layers import Permute, dot, add, concatenate\n",
    "from tensorflow.keras.layers import LSTM, Dense, Dropout, Input, Activation,MaxPooling2D,Bidirectional,Flatten\n",
    "from tensorflow.keras.utils import to_categorical\n",
    "from tensorflow.keras.preprocessing.text import Tokenizer\n",
    "from tensorflow.keras.preprocessing.sequence import pad_sequences\n",
    "from tensorflow.keras.callbacks import ModelCheckpoint,EarlyStopping,ReduceLROnPlateau\n",
    "from tensorflow.keras import optimizers\n",
    "from tensorflow.keras.layers import Layer\n",
    "from tensorflow.keras import backend as K\n",
    "from tensorflow.keras.utils import plot_model\n",
    "from keras.utils import to_categorical\n",
    "from tensorflow.keras.callbacks import ModelCheckpoint,EarlyStopping,ReduceLROnPlateau\n",
    "from sklearn.metrics import accuracy_score, f1_score, log_loss, confusion_matrix\n",
    "import spacy\n",
    "sp = spacy.load('en_core_web_sm')\n",
    "# import nltk\n",
    "# nltk.download(\"punkt\")"
   ]
  },
  {
   "cell_type": "markdown",
   "metadata": {
    "colab_type": "text",
    "id": "WTv5Folm5llV"
   },
   "source": [
    "## Read Dataset"
   ]
  },
  {
   "cell_type": "code",
   "execution_count": 0,
   "metadata": {
    "colab": {},
    "colab_type": "code",
    "id": "cxaDCDbS2sQD"
   },
   "outputs": [],
   "source": [
    "project_path = 'paraphrase_detection/'"
   ]
  },
  {
   "cell_type": "code",
   "execution_count": 0,
   "metadata": {
    "colab": {
     "base_uri": "https://localhost:8080/",
     "height": 204
    },
    "colab_type": "code",
    "id": "KkTEILOP1dRn",
    "outputId": "8fb4c9be-960f-4a03-f6b1-98e7cb8e7c1f"
   },
   "outputs": [
    {
     "data": {
      "text/html": [
       "<div>\n",
       "<style scoped>\n",
       "    .dataframe tbody tr th:only-of-type {\n",
       "        vertical-align: middle;\n",
       "    }\n",
       "\n",
       "    .dataframe tbody tr th {\n",
       "        vertical-align: top;\n",
       "    }\n",
       "\n",
       "    .dataframe thead th {\n",
       "        text-align: right;\n",
       "    }\n",
       "</style>\n",
       "<table border=\"1\" class=\"dataframe\">\n",
       "  <thead>\n",
       "    <tr style=\"text-align: right;\">\n",
       "      <th></th>\n",
       "      <th>id</th>\n",
       "      <th>qid1</th>\n",
       "      <th>qid2</th>\n",
       "      <th>question1</th>\n",
       "      <th>question2</th>\n",
       "      <th>is_duplicate</th>\n",
       "    </tr>\n",
       "  </thead>\n",
       "  <tbody>\n",
       "    <tr>\n",
       "      <th>0</th>\n",
       "      <td>0</td>\n",
       "      <td>1</td>\n",
       "      <td>2</td>\n",
       "      <td>What is the step by step guide to invest in sh...</td>\n",
       "      <td>What is the step by step guide to invest in sh...</td>\n",
       "      <td>0</td>\n",
       "    </tr>\n",
       "    <tr>\n",
       "      <th>1</th>\n",
       "      <td>1</td>\n",
       "      <td>3</td>\n",
       "      <td>4</td>\n",
       "      <td>What is the story of Kohinoor (Koh-i-Noor) Dia...</td>\n",
       "      <td>What would happen if the Indian government sto...</td>\n",
       "      <td>0</td>\n",
       "    </tr>\n",
       "    <tr>\n",
       "      <th>2</th>\n",
       "      <td>2</td>\n",
       "      <td>5</td>\n",
       "      <td>6</td>\n",
       "      <td>How can I increase the speed of my internet co...</td>\n",
       "      <td>How can Internet speed be increased by hacking...</td>\n",
       "      <td>0</td>\n",
       "    </tr>\n",
       "    <tr>\n",
       "      <th>3</th>\n",
       "      <td>3</td>\n",
       "      <td>7</td>\n",
       "      <td>8</td>\n",
       "      <td>Why am I mentally very lonely? How can I solve...</td>\n",
       "      <td>Find the remainder when [math]23^{24}[/math] i...</td>\n",
       "      <td>0</td>\n",
       "    </tr>\n",
       "    <tr>\n",
       "      <th>4</th>\n",
       "      <td>4</td>\n",
       "      <td>9</td>\n",
       "      <td>10</td>\n",
       "      <td>Which one dissolve in water quikly sugar, salt...</td>\n",
       "      <td>Which fish would survive in salt water?</td>\n",
       "      <td>0</td>\n",
       "    </tr>\n",
       "  </tbody>\n",
       "</table>\n",
       "</div>"
      ],
      "text/plain": [
       "   id  qid1  ...                                          question2 is_duplicate\n",
       "0   0     1  ...  What is the step by step guide to invest in sh...            0\n",
       "1   1     3  ...  What would happen if the Indian government sto...            0\n",
       "2   2     5  ...  How can Internet speed be increased by hacking...            0\n",
       "3   3     7  ...  Find the remainder when [math]23^{24}[/math] i...            0\n",
       "4   4     9  ...            Which fish would survive in salt water?            0\n",
       "\n",
       "[5 rows x 6 columns]"
      ]
     },
     "execution_count": 4,
     "metadata": {
      "tags": []
     },
     "output_type": "execute_result"
    }
   ],
   "source": [
    "data = pd.read_csv(project_path+\"questions.csv\",nrows=10000)\n",
    "data.head()"
   ]
  },
  {
   "cell_type": "markdown",
   "metadata": {
    "colab_type": "text",
    "id": "kZr-ay9J5q6E"
   },
   "source": [
    "## Preprocess Data"
   ]
  },
  {
   "cell_type": "code",
   "execution_count": 0,
   "metadata": {
    "colab": {},
    "colab_type": "code",
    "id": "sSM_jivf3ZTs"
   },
   "outputs": [],
   "source": [
    "# prepare translation table for removing punctuation\n",
    "table = str.maketrans('', '', string.punctuation)\n",
    "def clean_question(text):\n",
    "    doc = sp(text)\n",
    "    # tokenize\n",
    "    # text = text.split()\n",
    "    # Lemmatization\n",
    "    text = [token.lemma_ for token in doc]\n",
    "    # convert to lower case\n",
    "    text = [word.lower() for word in text]\n",
    "    # remove punctuation from each token\n",
    "    text = [w.translate(table) for w in text]\n",
    "    # remove hanging 's' and 'a'\n",
    "    text = [word for word in text if len(word)>1]\n",
    "    # remove tokens with numbers in them\n",
    "    text = [word for word in text if word.isalpha()]\n",
    "    # store as string\n",
    "    return ' '.join(text)"
   ]
  },
  {
   "cell_type": "code",
   "execution_count": 0,
   "metadata": {
    "colab": {},
    "colab_type": "code",
    "id": "HXXKfkiY52_y"
   },
   "outputs": [],
   "source": [
    "data[\"question1\"] = data[\"question1\"].apply(lambda x:clean_question(x))\n",
    "data[\"question2\"] = data[\"question2\"].apply(lambda x:clean_question(x))"
   ]
  },
  {
   "cell_type": "code",
   "execution_count": 0,
   "metadata": {
    "colab": {
     "base_uri": "https://localhost:8080/",
     "height": 204
    },
    "colab_type": "code",
    "id": "Wm1x7FfO-nGI",
    "outputId": "239db56d-ac33-4473-9470-80eaffb58691"
   },
   "outputs": [
    {
     "data": {
      "text/html": [
       "<div>\n",
       "<style scoped>\n",
       "    .dataframe tbody tr th:only-of-type {\n",
       "        vertical-align: middle;\n",
       "    }\n",
       "\n",
       "    .dataframe tbody tr th {\n",
       "        vertical-align: top;\n",
       "    }\n",
       "\n",
       "    .dataframe thead th {\n",
       "        text-align: right;\n",
       "    }\n",
       "</style>\n",
       "<table border=\"1\" class=\"dataframe\">\n",
       "  <thead>\n",
       "    <tr style=\"text-align: right;\">\n",
       "      <th></th>\n",
       "      <th>id</th>\n",
       "      <th>qid1</th>\n",
       "      <th>qid2</th>\n",
       "      <th>question1</th>\n",
       "      <th>question2</th>\n",
       "      <th>is_duplicate</th>\n",
       "    </tr>\n",
       "  </thead>\n",
       "  <tbody>\n",
       "    <tr>\n",
       "      <th>0</th>\n",
       "      <td>0</td>\n",
       "      <td>1</td>\n",
       "      <td>2</td>\n",
       "      <td>what be the step by step guide to invest in sh...</td>\n",
       "      <td>what be the step by step guide to invest in sh...</td>\n",
       "      <td>0</td>\n",
       "    </tr>\n",
       "    <tr>\n",
       "      <th>1</th>\n",
       "      <td>1</td>\n",
       "      <td>3</td>\n",
       "      <td>4</td>\n",
       "      <td>what be the story of kohinoor koh noor diamond</td>\n",
       "      <td>what would happen if the indian government ste...</td>\n",
       "      <td>0</td>\n",
       "    </tr>\n",
       "    <tr>\n",
       "      <th>2</th>\n",
       "      <td>2</td>\n",
       "      <td>5</td>\n",
       "      <td>6</td>\n",
       "      <td>how can pron increase the speed of pron intern...</td>\n",
       "      <td>how can internet speed be increase by hack thr...</td>\n",
       "      <td>0</td>\n",
       "    </tr>\n",
       "    <tr>\n",
       "      <th>3</th>\n",
       "      <td>3</td>\n",
       "      <td>7</td>\n",
       "      <td>8</td>\n",
       "      <td>why be pron mentally very lonely how can pron ...</td>\n",
       "      <td>find the remainder when be divide by</td>\n",
       "      <td>0</td>\n",
       "    </tr>\n",
       "    <tr>\n",
       "      <th>4</th>\n",
       "      <td>4</td>\n",
       "      <td>9</td>\n",
       "      <td>10</td>\n",
       "      <td>which one dissolve in water quikly sugar salt ...</td>\n",
       "      <td>which fish would survive in salt water</td>\n",
       "      <td>0</td>\n",
       "    </tr>\n",
       "  </tbody>\n",
       "</table>\n",
       "</div>"
      ],
      "text/plain": [
       "   id  qid1  ...                                          question2 is_duplicate\n",
       "0   0     1  ...  what be the step by step guide to invest in sh...            0\n",
       "1   1     3  ...  what would happen if the indian government ste...            0\n",
       "2   2     5  ...  how can internet speed be increase by hack thr...            0\n",
       "3   3     7  ...               find the remainder when be divide by            0\n",
       "4   4     9  ...             which fish would survive in salt water            0\n",
       "\n",
       "[5 rows x 6 columns]"
      ]
     },
     "execution_count": 7,
     "metadata": {
      "tags": []
     },
     "output_type": "execute_result"
    }
   ],
   "source": [
    "data.head()"
   ]
  },
  {
   "cell_type": "markdown",
   "metadata": {
    "colab_type": "text",
    "id": "4S9747qX0ZbP"
   },
   "source": [
    "## Feature Extraction"
   ]
  },
  {
   "cell_type": "code",
   "execution_count": 0,
   "metadata": {
    "colab": {
     "base_uri": "https://localhost:8080/",
     "height": 34
    },
    "colab_type": "code",
    "id": "qh20eJmABc_K",
    "outputId": "d473d9ab-d1c7-44dd-d26b-72629ccb1857"
   },
   "outputs": [
    {
     "name": "stdout",
     "output_type": "stream",
     "text": [
      "Vocabulary Size: 17723\n"
     ]
    }
   ],
   "source": [
    "# fit a tokenizer with questions\n",
    "tokenizer = Tokenizer()\n",
    "tokenizer.fit_on_texts(data[\"question1\"].values+data[\"question2\"].values)\n",
    "vocab_size = len(tokenizer.word_index) + 1\n",
    "print('Vocabulary Size: %d' % vocab_size)"
   ]
  },
  {
   "cell_type": "code",
   "execution_count": 0,
   "metadata": {
    "colab": {},
    "colab_type": "code",
    "id": "v7AoYTqeD7y5"
   },
   "outputs": [],
   "source": [
    "# create sequences\n",
    "max_len = 25\n",
    "q1_texts_seq = tokenizer.texts_to_sequences(data[\"question1\"].values)\n",
    "q2_texts_seq = tokenizer.texts_to_sequences(data[\"question2\"].values)\n",
    "\n",
    "q1_texts_seq = pad_sequences(q1_texts_seq,maxlen=max_len)\n",
    "q2_texts_seq = pad_sequences(q2_texts_seq,maxlen=max_len)"
   ]
  },
  {
   "cell_type": "code",
   "execution_count": 0,
   "metadata": {
    "colab": {},
    "colab_type": "code",
    "id": "sbXSABPdJhrh"
   },
   "outputs": [],
   "source": [
    "if os.path.isdir('glove') == False:\n",
    "    os.mkdir('glove')\n",
    "\n",
    "glove_dir = \"datasets/\"\n",
    "from zipfile import ZipFile\n",
    "with ZipFile(glove_dir+'glove.zip', 'r') as z:\n",
    "  z.extractall(\"glove\")"
   ]
  },
  {
   "cell_type": "code",
   "execution_count": 0,
   "metadata": {
    "colab": {
     "base_uri": "https://localhost:8080/",
     "height": 34
    },
    "colab_type": "code",
    "id": "JDbhWXclJkbP",
    "outputId": "c30e1d79-bc2b-449d-cbc7-2cfa358871e2"
   },
   "outputs": [
    {
     "name": "stdout",
     "output_type": "stream",
     "text": [
      "Found 400000 word vectors.\n"
     ]
    }
   ],
   "source": [
    "# Load Glove vectors\n",
    "embeddings_index = {} # empty dictionary\n",
    "f = open(os.path.join(\"glove/\", 'glove.6B.200d.txt'), encoding=\"utf-8\")\n",
    "\n",
    "for line in f:\n",
    "    values = line.split()\n",
    "    word = values[0]\n",
    "    coefs = np.asarray(values[1:], dtype='float32')\n",
    "    embeddings_index[word] = coefs\n",
    "f.close()\n",
    "print('Found %s word vectors.' % len(embeddings_index))"
   ]
  },
  {
   "cell_type": "code",
   "execution_count": 0,
   "metadata": {
    "colab": {},
    "colab_type": "code",
    "id": "7CUjZjcCJmiq"
   },
   "outputs": [],
   "source": [
    "embedding_dim = 200\n",
    "\n",
    "# Get 200-dim dense vector for each of the 10000 words in out vocabulary\n",
    "embedding_matrix = np.zeros((vocab_size, embedding_dim))\n",
    "\n",
    "for word, i in tokenizer.word_index.items():\n",
    "    #if i < max_words:\n",
    "    embedding_vector = embeddings_index.get(word)\n",
    "    if embedding_vector is not None:\n",
    "        # Words not found in the embedding index will be all zeros\n",
    "        embedding_matrix[i] = embedding_vector"
   ]
  },
  {
   "cell_type": "code",
   "execution_count": 0,
   "metadata": {
    "colab": {},
    "colab_type": "code",
    "id": "WfWFaPkLFUu1"
   },
   "outputs": [],
   "source": [
    "X = np.stack((q1_texts_seq, q2_texts_seq), axis=1)\n",
    "y = data[\"is_duplicate\"].values"
   ]
  },
  {
   "cell_type": "code",
   "execution_count": 0,
   "metadata": {
    "colab": {},
    "colab_type": "code",
    "id": "wrE_9flOGVCU"
   },
   "outputs": [],
   "source": [
    "X_train, X_test, y_train, y_test = train_test_split(X, y, test_size=0.2, random_state=42)"
   ]
  },
  {
   "cell_type": "code",
   "execution_count": 0,
   "metadata": {
    "colab": {},
    "colab_type": "code",
    "id": "_V0HpjaGF296"
   },
   "outputs": [],
   "source": [
    "# Get Question 1/2  train and test features\n",
    "q1_X_train = X_train[:,0]\n",
    "q2_X_train = X_train[:,1]\n",
    "\n",
    "q1_X_test = X_test[:,0]\n",
    "q2_X_test = X_test[:,1]"
   ]
  },
  {
   "cell_type": "markdown",
   "metadata": {
    "colab_type": "text",
    "id": "NK-anqJIwxeR"
   },
   "source": [
    "## Build Model\n",
    "\n",
    "Lets build **Bidirectional Long Short-Term Memory with Gated Relevance Network** for Paraphrase Detection"
   ]
  },
  {
   "cell_type": "code",
   "execution_count": 0,
   "metadata": {
    "colab": {},
    "colab_type": "code",
    "id": "8rHoUhWuMF3B"
   },
   "outputs": [],
   "source": [
    "class GatedRelevanceNetwork(Layer):\n",
    "    def __init__(self, output_dim,\n",
    "            weights_initializer=\"glorot_uniform\",\n",
    "            bias_initializer=\"zeros\", **kwargs):\n",
    "        self.output_dim = output_dim\n",
    "        self.weights_initializer = weights_initializer\n",
    "        self.bias_initializer = bias_initializer\n",
    "        super(GatedRelevanceNetwork, self).__init__(**kwargs)\n",
    "\n",
    "    def build(self, input_shape):\n",
    "        batch_size, len1, emb_dim = input_shape[0]\n",
    "        _, len2, _ = input_shape[1]\n",
    "        # Weights initialization\n",
    "        # Bilinear Tensor Product weights\n",
    "        self.Wb = self.add_weight(name='weights_btp',\n",
    "                                  shape=(self.output_dim, emb_dim, emb_dim),\n",
    "                                  initializer=self.weights_initializer,\n",
    "                                  trainable=True)\n",
    "\n",
    "        # Single Layer Network weights\n",
    "        self.Wd = self.add_weight(name='weights_sln',\n",
    "                                  shape=(2*emb_dim, self.output_dim),\n",
    "                                  initializer=self.weights_initializer,\n",
    "                                  trainable=True)\n",
    "\n",
    "        # Gate weights\n",
    "        self.Wg = self.add_weight(name='weights_gate',\n",
    "                                  shape=(2*emb_dim, self.output_dim),\n",
    "                                  initializer=self.weights_initializer,\n",
    "                                  trainable=True)\n",
    "\n",
    "        # Gate bias\n",
    "        self.bg = self.add_weight(name='bias_gate',\n",
    "                                  shape=(self.output_dim,),\n",
    "                                  initializer=self.bias_initializer,\n",
    "                                  trainable=True)\n",
    "\n",
    "        # General bias\n",
    "        self.b = self.add_weight(name='bias',\n",
    "                                 shape=(self.output_dim,),\n",
    "                                 initializer=self.bias_initializer,\n",
    "                                 trainable=True)\n",
    "\n",
    "        # Channel weights\n",
    "        self.u = self.add_weight(name=\"channel_weights\",\n",
    "                                 shape=(self.output_dim, 1),\n",
    "                                 initializer=self.weights_initializer,\n",
    "                                 trainable=True)\n",
    "\n",
    "        super(GatedRelevanceNetwork, self).build(input_shape)\n",
    "\n",
    "    def call(self, x):\n",
    "        e1 = x[0]\n",
    "        e2 = x[1]\n",
    "\n",
    "        batch_size = K.shape(e1)[0]\n",
    "        # Usually len1 = len2 = max_seq_length\n",
    "        _, len1, emb_dim = K.int_shape(e1)\n",
    "        _, len2, _ = K.int_shape(e2)\n",
    "\n",
    "        # Repeating the matrices to generate all the combinations\n",
    "        ne1 = K.reshape(K.repeat_elements(K.expand_dims(e1, axis=2), len2, axis=2),\n",
    "                       (batch_size, len1*len2, emb_dim))\n",
    "        ne2 = K.reshape(K.repeat_elements(K.expand_dims(e2, axis=1), len1, axis=1),\n",
    "                       (batch_size, len1*len2, emb_dim))\n",
    "\n",
    "        # Repeating the second matrix to use in Bilinear Tensor Product\n",
    "        ne2_k = K.repeat_elements(K.expand_dims(ne2, axis=-1), self.output_dim, axis=-1)\n",
    "\n",
    "        # Bilinear tensor product\n",
    "        btp = K.sum(ne2_k * K.permute_dimensions(K.dot(ne1, self.Wb), (0,1,3,2)), axis=2)\n",
    "        btp = K.reshape(btp, (batch_size, len1, len2, self.output_dim))\n",
    "\n",
    "        # Concatenating inputs to apply Single Layer Network\n",
    "        e = K.concatenate([ne1, ne2], axis=-1)\n",
    "\n",
    "        # Single Layer Network\n",
    "        #sln = K.relu(K.dot(e, self.Wd))\n",
    "        sln = K.tanh(K.dot(e, self.Wd))\n",
    "        sln = K.reshape(sln, (batch_size, len1, len2, self.output_dim))\n",
    "\n",
    "        # Gate\n",
    "        g = K.sigmoid(K.dot(e, self.Wg) + self.bg)\n",
    "        g = K.reshape(g, (batch_size, len1, len2, self.output_dim))\n",
    "\n",
    "        # Gated Relevance Network\n",
    "        #s = K.reshape(K.dot(g*btp + (1-g)*sln + self.b, self.u), (batch_size, len1, len2))\n",
    "        s = K.dot(g*btp + (1-g)*sln + self.b, self.u)\n",
    "\n",
    "        return s\n",
    "\n",
    "    def compute_output_shape(self, input_shape):\n",
    "        shape1 = input_shape[0]\n",
    "        shape2 = input_shape[1]\n",
    "        return (shape1[0], shape1[1], shape2[1], 1)"
   ]
  },
  {
   "cell_type": "code",
   "execution_count": 0,
   "metadata": {
    "colab": {},
    "colab_type": "code",
    "id": "NzGgSYmZGMaZ"
   },
   "outputs": [],
   "source": [
    "def create_model(input_shape,\n",
    "                      embeddings_dim, embeddings_matrix, vocab_size,\n",
    "                      max_seq_length, trainable_embeddings, dropout,\n",
    "                      lstm_hidden_units, attention_channels, pool_size,\n",
    "                      fc_hidden_units):\n",
    "   \n",
    "    X1_input = Input(input_shape, name=\"input_X1\")\n",
    "    X2_input = Input(input_shape, name=\"input_X2\")\n",
    "\n",
    "    # Encoding the inputs using the same weights\n",
    "    # Output shape: (batch_size, max_seq_length, lstm_hidden_units)\n",
    "    embeddor = Embedding(vocab_size,\n",
    "                    embeddings_dim,\n",
    "                    weights=[embeddings_matrix],\n",
    "                    input_length=input_shape[0],\n",
    "                    trainable=trainable_embeddings,\n",
    "                    mask_zero=False)\n",
    "    X1 = embeddor(X1_input)\n",
    "    X2 = embeddor(X2_input)\n",
    "\n",
    "    encoder = Bidirectional(LSTM(lstm_hidden_units, return_sequences=True))\n",
    "\n",
    "    # Output shape: (batch_size, max_seq_length, lstm_hidden_units)\n",
    "    X1_encoded = encoder(X1)\n",
    "    X2_encoded = encoder(X2)\n",
    "\n",
    "    # Attention matrix\n",
    "    # Output shape: (batch_size, max_seq_length, max_seq_length, 1)\n",
    "    X = GatedRelevanceNetwork(attention_channels, name=\"grn\")([X1_encoded, X2_encoded])\n",
    "    #X = BatchNormalization()(X)\n",
    "\n",
    "    # Non-overlapping 2D max pooling\n",
    "    # Output shape: (batch_size, pooled_rows, pooled_cols, 1)\n",
    "    print(\"shape before pool\", X.shape)\n",
    "    X = MaxPooling2D(pool_size=(pool_size, pool_size),\n",
    "                        strides=(pool_size, pool_size),\n",
    "                        padding='valid',\n",
    "                        data_format=\"channels_last\",\n",
    "                        name=\"max_pool\")(X)\n",
    "    X = Flatten()(X)\n",
    "\n",
    "    # Multi-Layer Perceptron\n",
    "    #X = Dropout(dropout)(X)\n",
    "    X = Dense(fc_hidden_units, activation=\"tanh\", name=\"mlp\")(X)\n",
    "    X = Dropout(dropout)(X)\n",
    "    X = Dense(2, activation=\"softmax\", name=\"output\")(X)\n",
    "\n",
    "    model = Model(inputs=[X1_input, X2_input], outputs=X, name=\"GRN_model\")\n",
    "    # Compiling model\n",
    "    #optimizer = optimizers.Adam(lr=0.001)\n",
    "    optimizer = optimizers.RMSprop()\n",
    "    model.compile(optimizer=optimizer,\n",
    "                loss=\"binary_crossentropy\",\n",
    "                metrics=[\"accuracy\"])\n",
    "    return model"
   ]
  },
  {
   "cell_type": "code",
   "execution_count": 0,
   "metadata": {
    "colab": {
     "base_uri": "https://localhost:8080/",
     "height": 561
    },
    "colab_type": "code",
    "id": "FOeFGaEQIYTT",
    "outputId": "2fa849e3-0c49-4818-f214-ecfc5f87d45f"
   },
   "outputs": [
    {
     "name": "stdout",
     "output_type": "stream",
     "text": [
      "shape before pool (?, 100, 100, 1)\n",
      "Model: \"GRN_model\"\n",
      "__________________________________________________________________________________________________\n",
      "Layer (type)                    Output Shape         Param #     Connected to                     \n",
      "==================================================================================================\n",
      "input_X1 (InputLayer)           [(None, 100)]        0                                            \n",
      "__________________________________________________________________________________________________\n",
      "input_X2 (InputLayer)           [(None, 100)]        0                                            \n",
      "__________________________________________________________________________________________________\n",
      "embedding_1 (Embedding)         (None, 100, 200)     3544600     input_X1[0][0]                   \n",
      "                                                                 input_X2[0][0]                   \n",
      "__________________________________________________________________________________________________\n",
      "bidirectional_1 (Bidirectional) (None, 100, 100)     100400      embedding_1[0][0]                \n",
      "                                                                 embedding_1[1][0]                \n",
      "__________________________________________________________________________________________________\n",
      "grn (GatedRelevanceNetwork)     (None, 100, 100, 1)  20806       bidirectional_1[0][0]            \n",
      "                                                                 bidirectional_1[1][0]            \n",
      "__________________________________________________________________________________________________\n",
      "max_pool (MaxPooling2D)         (None, 33, 33, 1)    0           grn[0][0]                        \n",
      "__________________________________________________________________________________________________\n",
      "flatten_1 (Flatten)             (None, 1089)         0           max_pool[0][0]                   \n",
      "__________________________________________________________________________________________________\n",
      "mlp (Dense)                     (None, 128)          139520      flatten_1[0][0]                  \n",
      "__________________________________________________________________________________________________\n",
      "dropout_1 (Dropout)             (None, 128)          0           mlp[0][0]                        \n",
      "__________________________________________________________________________________________________\n",
      "output (Dense)                  (None, 2)            258         dropout_1[0][0]                  \n",
      "==================================================================================================\n",
      "Total params: 3,805,584\n",
      "Trainable params: 260,984\n",
      "Non-trainable params: 3,544,600\n",
      "__________________________________________________________________________________________________\n"
     ]
    }
   ],
   "source": [
    "dropout = 0.5\n",
    "trainable_embeddings = False\n",
    "lstm_hidden_units = 50\n",
    "attention_channels = 2\n",
    "pool_size = 3\n",
    "fc_hidden_units = 128\n",
    "use_class_weight = False\n",
    "input_shape = (max_len,)\n",
    "model = create_model(input_shape,\n",
    "                      embedding_dim, embedding_matrix, vocab_size,\n",
    "                      max_len, trainable_embeddings, dropout,\n",
    "                      lstm_hidden_units, attention_channels, pool_size,\n",
    "                      fc_hidden_units)\n",
    "model.summary()"
   ]
  },
  {
   "cell_type": "code",
   "execution_count": 0,
   "metadata": {
    "colab": {
     "base_uri": "https://localhost:8080/",
     "height": 976
    },
    "colab_type": "code",
    "id": "wVXEuy6WN23m",
    "outputId": "950bd420-09c6-4ea7-c584-f55f267461bd"
   },
   "outputs": [
    {
     "data": {
      "image/png": "[encoded data removed]",
      "text/plain": [
       "<IPython.core.display.Image object>"
      ]
     },
     "execution_count": 26,
     "metadata": {
      "tags": []
     },
     "output_type": "execute_result"
    }
   ],
   "source": [
    "plot_model(model, to_file='model.png', show_shapes=True)"
   ]
  },
  {
   "cell_type": "code",
   "execution_count": 0,
   "metadata": {
    "colab": {},
    "colab_type": "code",
    "id": "y-ziFUgbYdFb"
   },
   "outputs": [],
   "source": [
    "# Defining a helper function to save the model after each epoch \n",
    "# in which the loss decreases \n",
    "# filepath = project_path+'model_paraprase_detection_pad.h5'\n",
    "# checkpoint = ModelCheckpoint(filepath, monitor='val_loss', verbose=1, save_best_only=True, mode='min')\n",
    "# Defining a helper function to reduce the learning rate each time \n",
    "# the learning plateaus \n",
    "reduce_alpha = ReduceLROnPlateau(monitor ='val_loss', factor = 0.2, patience = 1, min_lr = 0.001)\n",
    "# stop traning if there increase in loss\n",
    "# es = EarlyStopping(monitor='val_loss', mode='min', verbose=1,patience=2)\n",
    "callbacks = [reduce_alpha] "
   ]
  },
  {
   "cell_type": "code",
   "execution_count": 0,
   "metadata": {
    "colab": {
     "base_uri": "https://localhost:8080/",
     "height": 1000
    },
    "colab_type": "code",
    "id": "SpfEXkzIJ9Bt",
    "outputId": "1084236f-7b74-40d7-8574-d251795668dc"
   },
   "outputs": [
    {
     "name": "stdout",
     "output_type": "stream",
     "text": [
      "Train on 8000 samples, validate on 2000 samples\n",
      "Epoch 1/30\n",
      "8000/8000 [==============================] - 72s 9ms/sample - loss: 0.3510 - acc: 0.8445 - val_loss: 0.7133 - val_acc: 0.6815\n",
      "Epoch 2/30\n",
      "8000/8000 [==============================] - 71s 9ms/sample - loss: 0.2845 - acc: 0.8808 - val_loss: 0.8696 - val_acc: 0.6610\n",
      "Epoch 3/30\n",
      "8000/8000 [==============================] - 71s 9ms/sample - loss: 0.2204 - acc: 0.9075 - val_loss: 0.9559 - val_acc: 0.6595\n",
      "Epoch 4/30\n",
      "8000/8000 [==============================] - 71s 9ms/sample - loss: 0.1699 - acc: 0.9326 - val_loss: 1.0825 - val_acc: 0.6590\n",
      "Epoch 5/30\n",
      "8000/8000 [==============================] - 72s 9ms/sample - loss: 0.1285 - acc: 0.9519 - val_loss: 1.2959 - val_acc: 0.6485\n",
      "Epoch 6/30\n",
      "8000/8000 [==============================] - 72s 9ms/sample - loss: 0.1002 - acc: 0.9628 - val_loss: 1.5199 - val_acc: 0.6635\n",
      "Epoch 7/30\n",
      "8000/8000 [==============================] - 71s 9ms/sample - loss: 0.0814 - acc: 0.9704 - val_loss: 1.6673 - val_acc: 0.6565\n",
      "Epoch 8/30\n",
      "8000/8000 [==============================] - 71s 9ms/sample - loss: 0.0760 - acc: 0.9714 - val_loss: 1.7116 - val_acc: 0.6625\n",
      "Epoch 9/30\n",
      "8000/8000 [==============================] - 71s 9ms/sample - loss: 0.0599 - acc: 0.9795 - val_loss: 1.9377 - val_acc: 0.6425\n",
      "Epoch 10/30\n",
      "8000/8000 [==============================] - 72s 9ms/sample - loss: 0.0554 - acc: 0.9799 - val_loss: 2.0199 - val_acc: 0.6395\n",
      "Epoch 11/30\n",
      "8000/8000 [==============================] - 72s 9ms/sample - loss: 0.0445 - acc: 0.9839 - val_loss: 2.0122 - val_acc: 0.6610\n",
      "Epoch 12/30\n",
      "8000/8000 [==============================] - 72s 9ms/sample - loss: 0.0587 - acc: 0.9825 - val_loss: 2.1341 - val_acc: 0.6430\n",
      "Epoch 13/30\n",
      "8000/8000 [==============================] - 72s 9ms/sample - loss: 0.0362 - acc: 0.9886 - val_loss: 2.2436 - val_acc: 0.6485\n",
      "Epoch 14/30\n",
      "8000/8000 [==============================] - 71s 9ms/sample - loss: 0.0408 - acc: 0.9865 - val_loss: 2.1634 - val_acc: 0.6620\n",
      "Epoch 15/30\n",
      "8000/8000 [==============================] - 72s 9ms/sample - loss: 0.0362 - acc: 0.9883 - val_loss: 2.4162 - val_acc: 0.6720\n",
      "Epoch 16/30\n",
      "8000/8000 [==============================] - 72s 9ms/sample - loss: 0.0348 - acc: 0.9887 - val_loss: 2.3547 - val_acc: 0.6520\n",
      "Epoch 17/30\n",
      "8000/8000 [==============================] - 72s 9ms/sample - loss: 0.0364 - acc: 0.9876 - val_loss: 2.3656 - val_acc: 0.6655\n",
      "Epoch 18/30\n",
      "8000/8000 [==============================] - 71s 9ms/sample - loss: 0.0327 - acc: 0.9889 - val_loss: 2.5355 - val_acc: 0.6495\n",
      "Epoch 19/30\n",
      "8000/8000 [==============================] - 71s 9ms/sample - loss: 0.0272 - acc: 0.9924 - val_loss: 2.5073 - val_acc: 0.6520\n",
      "Epoch 20/30\n",
      "8000/8000 [==============================] - 72s 9ms/sample - loss: 0.0320 - acc: 0.9905 - val_loss: 2.6908 - val_acc: 0.6480\n",
      "Epoch 21/30\n",
      "8000/8000 [==============================] - 72s 9ms/sample - loss: 0.0257 - acc: 0.9896 - val_loss: 2.5848 - val_acc: 0.6675\n",
      "Epoch 22/30\n",
      "8000/8000 [==============================] - 72s 9ms/sample - loss: 0.0320 - acc: 0.9906 - val_loss: 2.5666 - val_acc: 0.6590\n",
      "Epoch 23/30\n",
      "8000/8000 [==============================] - 72s 9ms/sample - loss: 0.0264 - acc: 0.9916 - val_loss: 2.6023 - val_acc: 0.6660\n",
      "Epoch 24/30\n",
      "8000/8000 [==============================] - 72s 9ms/sample - loss: 0.0227 - acc: 0.9924 - val_loss: 2.6345 - val_acc: 0.6605\n",
      "Epoch 25/30\n",
      "8000/8000 [==============================] - 72s 9ms/sample - loss: 0.0235 - acc: 0.9926 - val_loss: 2.6609 - val_acc: 0.6490\n",
      "Epoch 26/30\n",
      "8000/8000 [==============================] - 71s 9ms/sample - loss: 0.0269 - acc: 0.9916 - val_loss: 2.5276 - val_acc: 0.6720\n",
      "Epoch 27/30\n",
      "8000/8000 [==============================] - 71s 9ms/sample - loss: 0.0203 - acc: 0.9930 - val_loss: 2.7004 - val_acc: 0.6640\n",
      "Epoch 28/30\n",
      "8000/8000 [==============================] - 72s 9ms/sample - loss: 0.0235 - acc: 0.9937 - val_loss: 2.6500 - val_acc: 0.6665\n",
      "Epoch 29/30\n",
      "8000/8000 [==============================] - 72s 9ms/sample - loss: 0.0225 - acc: 0.9927 - val_loss: 2.8314 - val_acc: 0.6560\n",
      "Epoch 30/30\n",
      "8000/8000 [==============================] - 71s 9ms/sample - loss: 0.0176 - acc: 0.9951 - val_loss: 2.7165 - val_acc: 0.6580\n"
     ]
    }
   ],
   "source": [
    "epochs = 30\n",
    "batch_size = 64\n",
    "history = model.fit(x=[q1_X_train, q2_X_train],\n",
    "                    y=to_categorical(y_train),\n",
    "                    epochs=epochs,\n",
    "                    batch_size=batch_size,\n",
    "                    validation_data=([q1_X_test, q2_X_test], to_categorical(y_test)),callbacks=callbacks)"
   ]
  },
  {
   "cell_type": "code",
   "execution_count": 0,
   "metadata": {
    "colab": {},
    "colab_type": "code",
    "id": "67_1ZR5mdPGU"
   },
   "outputs": [],
   "source": [
    "filepath = project_path+'model_paraprase_detection_pad.h5'\n",
    "model.save_weights(filepath)"
   ]
  },
  {
   "cell_type": "code",
   "execution_count": 0,
   "metadata": {
    "colab": {
     "base_uri": "https://localhost:8080/",
     "height": 136
    },
    "colab_type": "code",
    "id": "p3C_iFqwdUaM",
    "outputId": "3e2a74c5-0e4a-4587-9ba2-41085e37b6f2"
   },
   "outputs": [
    {
     "name": "stdout",
     "output_type": "stream",
     "text": [
      "Evaluation (loss, acc)\n",
      "2000/2000 [==============================] - 10s 5ms/sample - loss: 2.7165 - acc: 0.6580\n",
      "loss: 2.7165   acc: 0.6580\n",
      "f1: 0.5581\n",
      "confusion matrix\n",
      "[[884 373]\n",
      " [311 432]]\n"
     ]
    }
   ],
   "source": [
    "print(\"Evaluation (loss, acc)\")\n",
    "loss, acc = model.evaluate(x=[q1_X_test, q2_X_test], y=to_categorical(y_test))\n",
    "print(\"loss: {:.4f}   acc: {:.4f}\".format(loss, acc))\n",
    "pred = np.argmax(model.predict(x=[q1_X_test, q2_X_test]), axis=1)\n",
    "f1 = f1_score(y_test, pred)\n",
    "print(\"f1: {:.4f}\".format(f1))\n",
    "print(\"confusion matrix\")\n",
    "cf_mat = confusion_matrix(y_test, pred)\n",
    "print(cf_mat)"
   ]
  },
  {
   "cell_type": "code",
   "execution_count": 0,
   "metadata": {
    "colab": {},
    "colab_type": "code",
    "id": "ZuOh8yw2vLQZ"
   },
   "outputs": [],
   "source": []
  }
 ],
 "metadata": {
  "accelerator": "GPU",
  "colab": {
   "collapsed_sections": [],
   "machine_shape": "hm",
   "name": "Paraphrase_Detection_BiLSTM_GRN.ipynb",
   "provenance": []
  },
  "kernelspec": {
   "display_name": "Python 3",
   "language": "python",
   "name": "python3"
  },
  "language_info": {
   "codemirror_mode": {
    "name": "ipython",
    "version": 3
   },
   "file_extension": ".py",
   "mimetype": "text/x-python",
   "name": "python",
   "nbconvert_exporter": "python",
   "pygments_lexer": "ipython3",
   "version": "3.7.0"
  }
 },
 "nbformat": 4,
 "nbformat_minor": 1
}
